{
 "cells": [
  {
   "cell_type": "code",
   "execution_count": 132,
   "metadata": {},
   "outputs": [],
   "source": [
    "import numpy as np\n",
    "import pandas as pd\n",
    "import matplotlib.pyplot as plt\n",
    "import seaborn as sns\n",
    "from sklearn.linear_model import LogisticRegression\n",
    "from sklearn.svm import SVC\n",
    "from keras.models import Sequential\n",
    "from keras.layers import Dense\n",
    "from keras.wrappers.scikit_learn import KerasClassifier\n",
    "from sklearn.preprocessing import LabelEncoder\n",
    "from sklearn.tree import DecisionTreeClassifier\n",
    "from sklearn.metrics import accuracy_score, roc_curve, auc, confusion_matrix, precision_score\n",
    "from sklearn.model_selection import train_test_split, KFold, cross_val_score\n",
    "from itertools import count\n",
    "\n",
    "# Input wine data from the following URL:\n",
    "wine = pd.read_csv('Wine.csv')\n"
   ]
  },
  {
   "cell_type": "code",
   "execution_count": 38,
   "metadata": {},
   "outputs": [],
   "source": [
    "X=dataset.iloc[:,2:16]"
   ]
  },
  {
   "cell_type": "code",
   "execution_count": 53,
   "metadata": {},
   "outputs": [],
   "source": [
    "y=dataset.iloc[:,1]"
   ]
  },
  {
   "cell_type": "code",
   "execution_count": 54,
   "metadata": {},
   "outputs": [],
   "source": [
    "X.columns = [  'alcohol'\n",
    "             \t,'malicAcid'\n",
    "             \t,'ash'\n",
    "            \t,'ashalcalinity'\n",
    "             \t,'magnesium'\n",
    "            \t,'totalPhenols'\n",
    "             \t,'flavanoids'\n",
    "             \t,'nonFlavanoidPhenols'\n",
    "             \t,'proanthocyanins'\n",
    "            \t,'colorIntensity'\n",
    "             \t,'hue'\n",
    "             \t,'od280_od315'\n",
    "             \t,'proline'\n",
    "                ]"
   ]
  },
  {
   "cell_type": "code",
   "execution_count": 55,
   "metadata": {},
   "outputs": [
    {
     "data": {
      "text/html": [
       "<div>\n",
       "<style scoped>\n",
       "    .dataframe tbody tr th:only-of-type {\n",
       "        vertical-align: middle;\n",
       "    }\n",
       "\n",
       "    .dataframe tbody tr th {\n",
       "        vertical-align: top;\n",
       "    }\n",
       "\n",
       "    .dataframe thead th {\n",
       "        text-align: right;\n",
       "    }\n",
       "</style>\n",
       "<table border=\"1\" class=\"dataframe\">\n",
       "  <thead>\n",
       "    <tr style=\"text-align: right;\">\n",
       "      <th></th>\n",
       "      <th>alcohol</th>\n",
       "      <th>malicAcid</th>\n",
       "      <th>ash</th>\n",
       "      <th>ashalcalinity</th>\n",
       "      <th>magnesium</th>\n",
       "      <th>totalPhenols</th>\n",
       "      <th>flavanoids</th>\n",
       "      <th>nonFlavanoidPhenols</th>\n",
       "      <th>proanthocyanins</th>\n",
       "      <th>colorIntensity</th>\n",
       "      <th>hue</th>\n",
       "      <th>od280_od315</th>\n",
       "      <th>proline</th>\n",
       "    </tr>\n",
       "  </thead>\n",
       "  <tbody>\n",
       "    <tr>\n",
       "      <td>0</td>\n",
       "      <td>13.41</td>\n",
       "      <td>3.84</td>\n",
       "      <td>2.12</td>\n",
       "      <td>18.8</td>\n",
       "      <td>90</td>\n",
       "      <td>2.45</td>\n",
       "      <td>2.68</td>\n",
       "      <td>0.27</td>\n",
       "      <td>1.48</td>\n",
       "      <td>4.28</td>\n",
       "      <td>0.91</td>\n",
       "      <td>3.00</td>\n",
       "      <td>1035</td>\n",
       "    </tr>\n",
       "    <tr>\n",
       "      <td>1</td>\n",
       "      <td>12.29</td>\n",
       "      <td>3.17</td>\n",
       "      <td>2.21</td>\n",
       "      <td>18.0</td>\n",
       "      <td>88</td>\n",
       "      <td>2.85</td>\n",
       "      <td>2.99</td>\n",
       "      <td>0.45</td>\n",
       "      <td>2.81</td>\n",
       "      <td>2.30</td>\n",
       "      <td>1.42</td>\n",
       "      <td>2.83</td>\n",
       "      <td>406</td>\n",
       "    </tr>\n",
       "    <tr>\n",
       "      <td>2</td>\n",
       "      <td>11.03</td>\n",
       "      <td>1.51</td>\n",
       "      <td>2.20</td>\n",
       "      <td>21.5</td>\n",
       "      <td>85</td>\n",
       "      <td>2.46</td>\n",
       "      <td>2.17</td>\n",
       "      <td>0.52</td>\n",
       "      <td>2.01</td>\n",
       "      <td>1.90</td>\n",
       "      <td>1.71</td>\n",
       "      <td>2.87</td>\n",
       "      <td>407</td>\n",
       "    </tr>\n",
       "    <tr>\n",
       "      <td>3</td>\n",
       "      <td>13.56</td>\n",
       "      <td>1.71</td>\n",
       "      <td>2.31</td>\n",
       "      <td>16.2</td>\n",
       "      <td>117</td>\n",
       "      <td>3.15</td>\n",
       "      <td>3.29</td>\n",
       "      <td>0.34</td>\n",
       "      <td>2.34</td>\n",
       "      <td>6.13</td>\n",
       "      <td>0.95</td>\n",
       "      <td>3.38</td>\n",
       "      <td>795</td>\n",
       "    </tr>\n",
       "    <tr>\n",
       "      <td>4</td>\n",
       "      <td>12.25</td>\n",
       "      <td>1.73</td>\n",
       "      <td>2.12</td>\n",
       "      <td>19.0</td>\n",
       "      <td>80</td>\n",
       "      <td>1.65</td>\n",
       "      <td>2.03</td>\n",
       "      <td>0.37</td>\n",
       "      <td>1.63</td>\n",
       "      <td>3.40</td>\n",
       "      <td>1.00</td>\n",
       "      <td>3.17</td>\n",
       "      <td>510</td>\n",
       "    </tr>\n",
       "    <tr>\n",
       "      <td>...</td>\n",
       "      <td>...</td>\n",
       "      <td>...</td>\n",
       "      <td>...</td>\n",
       "      <td>...</td>\n",
       "      <td>...</td>\n",
       "      <td>...</td>\n",
       "      <td>...</td>\n",
       "      <td>...</td>\n",
       "      <td>...</td>\n",
       "      <td>...</td>\n",
       "      <td>...</td>\n",
       "      <td>...</td>\n",
       "      <td>...</td>\n",
       "    </tr>\n",
       "    <tr>\n",
       "      <td>172</td>\n",
       "      <td>11.96</td>\n",
       "      <td>1.09</td>\n",
       "      <td>2.30</td>\n",
       "      <td>21.0</td>\n",
       "      <td>101</td>\n",
       "      <td>3.38</td>\n",
       "      <td>2.14</td>\n",
       "      <td>0.13</td>\n",
       "      <td>1.65</td>\n",
       "      <td>3.21</td>\n",
       "      <td>0.99</td>\n",
       "      <td>3.13</td>\n",
       "      <td>886</td>\n",
       "    </tr>\n",
       "    <tr>\n",
       "      <td>173</td>\n",
       "      <td>13.78</td>\n",
       "      <td>2.76</td>\n",
       "      <td>2.30</td>\n",
       "      <td>22.0</td>\n",
       "      <td>90</td>\n",
       "      <td>1.35</td>\n",
       "      <td>0.68</td>\n",
       "      <td>0.41</td>\n",
       "      <td>1.03</td>\n",
       "      <td>9.58</td>\n",
       "      <td>0.70</td>\n",
       "      <td>1.68</td>\n",
       "      <td>615</td>\n",
       "    </tr>\n",
       "    <tr>\n",
       "      <td>174</td>\n",
       "      <td>12.16</td>\n",
       "      <td>1.61</td>\n",
       "      <td>2.31</td>\n",
       "      <td>22.8</td>\n",
       "      <td>90</td>\n",
       "      <td>1.78</td>\n",
       "      <td>1.69</td>\n",
       "      <td>0.43</td>\n",
       "      <td>1.56</td>\n",
       "      <td>2.45</td>\n",
       "      <td>1.33</td>\n",
       "      <td>2.26</td>\n",
       "      <td>495</td>\n",
       "    </tr>\n",
       "    <tr>\n",
       "      <td>175</td>\n",
       "      <td>11.76</td>\n",
       "      <td>2.68</td>\n",
       "      <td>2.92</td>\n",
       "      <td>20.0</td>\n",
       "      <td>103</td>\n",
       "      <td>1.75</td>\n",
       "      <td>2.03</td>\n",
       "      <td>0.60</td>\n",
       "      <td>1.05</td>\n",
       "      <td>3.80</td>\n",
       "      <td>1.23</td>\n",
       "      <td>2.50</td>\n",
       "      <td>607</td>\n",
       "    </tr>\n",
       "    <tr>\n",
       "      <td>176</td>\n",
       "      <td>12.51</td>\n",
       "      <td>1.24</td>\n",
       "      <td>2.25</td>\n",
       "      <td>17.5</td>\n",
       "      <td>85</td>\n",
       "      <td>2.00</td>\n",
       "      <td>0.58</td>\n",
       "      <td>0.60</td>\n",
       "      <td>1.25</td>\n",
       "      <td>5.45</td>\n",
       "      <td>0.75</td>\n",
       "      <td>1.51</td>\n",
       "      <td>650</td>\n",
       "    </tr>\n",
       "  </tbody>\n",
       "</table>\n",
       "<p>177 rows × 13 columns</p>\n",
       "</div>"
      ],
      "text/plain": [
       "     alcohol  malicAcid   ash  ashalcalinity  magnesium  totalPhenols  \\\n",
       "0      13.41       3.84  2.12           18.8         90          2.45   \n",
       "1      12.29       3.17  2.21           18.0         88          2.85   \n",
       "2      11.03       1.51  2.20           21.5         85          2.46   \n",
       "3      13.56       1.71  2.31           16.2        117          3.15   \n",
       "4      12.25       1.73  2.12           19.0         80          1.65   \n",
       "..       ...        ...   ...            ...        ...           ...   \n",
       "172    11.96       1.09  2.30           21.0        101          3.38   \n",
       "173    13.78       2.76  2.30           22.0         90          1.35   \n",
       "174    12.16       1.61  2.31           22.8         90          1.78   \n",
       "175    11.76       2.68  2.92           20.0        103          1.75   \n",
       "176    12.51       1.24  2.25           17.5         85          2.00   \n",
       "\n",
       "     flavanoids  nonFlavanoidPhenols  proanthocyanins  colorIntensity   hue  \\\n",
       "0          2.68                 0.27             1.48            4.28  0.91   \n",
       "1          2.99                 0.45             2.81            2.30  1.42   \n",
       "2          2.17                 0.52             2.01            1.90  1.71   \n",
       "3          3.29                 0.34             2.34            6.13  0.95   \n",
       "4          2.03                 0.37             1.63            3.40  1.00   \n",
       "..          ...                  ...              ...             ...   ...   \n",
       "172        2.14                 0.13             1.65            3.21  0.99   \n",
       "173        0.68                 0.41             1.03            9.58  0.70   \n",
       "174        1.69                 0.43             1.56            2.45  1.33   \n",
       "175        2.03                 0.60             1.05            3.80  1.23   \n",
       "176        0.58                 0.60             1.25            5.45  0.75   \n",
       "\n",
       "     od280_od315  proline  \n",
       "0           3.00     1035  \n",
       "1           2.83      406  \n",
       "2           2.87      407  \n",
       "3           3.38      795  \n",
       "4           3.17      510  \n",
       "..           ...      ...  \n",
       "172         3.13      886  \n",
       "173         1.68      615  \n",
       "174         2.26      495  \n",
       "175         2.50      607  \n",
       "176         1.51      650  \n",
       "\n",
       "[177 rows x 13 columns]"
      ]
     },
     "execution_count": 55,
     "metadata": {},
     "output_type": "execute_result"
    }
   ],
   "source": [
    "X"
   ]
  },
  {
   "cell_type": "code",
   "execution_count": 56,
   "metadata": {},
   "outputs": [],
   "source": [
    "y.columns=['Name']"
   ]
  },
  {
   "cell_type": "code",
   "execution_count": 65,
   "metadata": {},
   "outputs": [
    {
     "data": {
      "text/plain": [
       "172    2\n",
       "173    3\n",
       "174    2\n",
       "175    2\n",
       "176    3\n",
       "Name: 1, dtype: int64"
      ]
     },
     "execution_count": 65,
     "metadata": {},
     "output_type": "execute_result"
    }
   ],
   "source": [
    "y.tail()"
   ]
  },
  {
   "cell_type": "code",
   "execution_count": 66,
   "metadata": {},
   "outputs": [],
   "source": [
    "dummy_X = np.array(X[[  'alcohol'\n",
    "             \t,'malicAcid'\n",
    "             \t,'ash'\n",
    "            \t,'ashalcalinity'\n",
    "             \t,'magnesium'\n",
    "            \t,'totalPhenols'\n",
    "             \t,'flavanoids'\n",
    "             \t,'nonFlavanoidPhenols'\n",
    "             \t,'proanthocyanins'\n",
    "            \t,'colorIntensity'\n",
    "             \t,'hue'\n",
    "             \t,'od280_od315'\n",
    "             \t,'proline'\n",
    "                ]])\n",
    "dummy_y = np.array(y)"
   ]
  },
  {
   "cell_type": "code",
   "execution_count": 74,
   "metadata": {},
   "outputs": [
    {
     "data": {
      "image/png": "[encoded data removed]",
      "text/plain": [
       "<Figure size 432x288 with 1 Axes>"
      ]
     },
     "metadata": {
      "needs_background": "light"
     },
     "output_type": "display_data"
    },
    {
     "data": {
      "image/png": "[encoded data removed]",
      "text/plain": [
       "<Figure size 432x288 with 1 Axes>"
      ]
     },
     "metadata": {
      "needs_background": "light"
     },
     "output_type": "display_data"
    },
    {
     "data": {
      "image/png": "[encoded data removed]",
      "text/plain": [
       "<Figure size 432x288 with 1 Axes>"
      ]
     },
     "metadata": {
      "needs_background": "light"
     },
     "output_type": "display_data"
    }
   ],
   "source": [
    "#plotting according to alcohol and flavanoida content\n",
    "plt.scatter(dummy_X[dummy_y == 1, 0],dummy_X[dummy_y == 1, 6],label='Class 1',marker='^',color='red')\n",
    "plt.scatter(dummy_X[dummy_y == 2, 0],dummy_X[dummy_y == 2, 6],label='Class 2',marker='*',color='blue')\n",
    "plt.scatter(dummy_X[dummy_y == 3, 0],dummy_X[dummy_y == 3, 6],label='Class 3',marker='*',color='green')\n",
    "plt.xlabel('alcohol')\n",
    "plt.ylabel('flavanoids')\n",
    "plt.legend(loc='upper right')\n",
    "plt.show()\n",
    "\n",
    "\n",
    "sns.kdeplot(dummy_X[dummy_y == 1,0], label='Class 1 alcohol')\n",
    "sns.kdeplot(dummy_X[dummy_y == 2,0], label='Class 2 alcohol')\n",
    "sns.kdeplot(dummy_X[dummy_y == 3,0], label='Class 3 alcohol')\n",
    "plt.title('Distribution across alcohol content')\n",
    "plt.xlabel('alcohol content')\n",
    "plt.show()\n",
    "\n",
    "\n",
    "sns.kdeplot(dummy_X[dummy_y == 1,6], label='Class 1 flavanoids')\n",
    "sns.kdeplot(dummy_X[dummy_y == 2,6], label='Class 2 flavanoids')\n",
    "sns.kdeplot(dummy_X[dummy_y == 3,6], label='Class 3 flavanoids')\n",
    "plt.title('Distribution across flavanoids content')\n",
    "plt.xlabel('flavanoids content')\n",
    "plt.show()"
   ]
  },
  {
   "cell_type": "code",
   "execution_count": 79,
   "metadata": {},
   "outputs": [],
   "source": [
    "\n",
    "# demonstrate data standardization with sklearn\n",
    "from sklearn.preprocessing import StandardScaler\n",
    "# load data\n",
    "data = dummy_X\n",
    "# create scaler\n",
    "scaler = StandardScaler()\n",
    "# fit and transform in one step\n",
    "data = scaler.fit_transform(data)"
   ]
  },
  {
   "cell_type": "code",
   "execution_count": 81,
   "metadata": {},
   "outputs": [
    {
     "data": {
      "text/plain": [
       "array([[ 0.51620227,  1.344009  , -0.89739756, ..., -0.20562693,\n",
       "         0.56279557,  0.92328075],\n",
       "       [-0.87247921,  0.7437302 , -0.56929237, ...,  2.02644896,\n",
       "         0.32101204, -1.07994681],\n",
       "       [-2.43474589, -0.74352772, -0.6057485 , ...,  3.29566859,\n",
       "         0.37790228, -1.07676203],\n",
       "       ...,\n",
       "       [-1.03366546, -0.65393387, -0.20473105, ...,  1.63255322,\n",
       "        -0.48967393, -0.79650126],\n",
       "       [-1.52962313,  0.30472033,  2.01909302, ...,  1.19489128,\n",
       "        -0.14833247, -0.43980573],\n",
       "       [-0.59970249, -0.98543112, -0.42346784, ..., -0.90588604,\n",
       "        -1.55636599, -0.30286013]])"
      ]
     },
     "execution_count": 81,
     "metadata": {},
     "output_type": "execute_result"
    }
   ],
   "source": [
    "data"
   ]
  },
  {
   "cell_type": "code",
   "execution_count": 87,
   "metadata": {},
   "outputs": [
    {
     "name": "stderr",
     "output_type": "stream",
     "text": [
      "Using TensorFlow backend.\n"
     ]
    }
   ],
   "source": [
    "# encode class values as integers\n",
    "from keras.utils import np_utilsfrom keras.utils import np_utilsfrom keras.utils import np_utils\n",
    "encoder = LabelEncoder()\n",
    "encoder.fit(dummy_y)\n",
    "encoded_Y = encoder.transform(dummy_y)\n",
    "# convert integers to dummy variables (i.e. one hot encoded)\n",
    "dummy_y = np_utils.to_categorical(encoded_Y)"
   ]
  },
  {
   "cell_type": "code",
   "execution_count": 94,
   "metadata": {},
   "outputs": [
    {
     "data": {
      "text/plain": [
       "(177, 13)"
      ]
     },
     "execution_count": 94,
     "metadata": {},
     "output_type": "execute_result"
    }
   ],
   "source": [
    "dummy_X.shape\n"
   ]
  },
  {
   "cell_type": "code",
   "execution_count": 95,
   "metadata": {},
   "outputs": [
    {
     "data": {
      "text/plain": [
       "(177, 3)"
      ]
     },
     "execution_count": 95,
     "metadata": {},
     "output_type": "execute_result"
    }
   ],
   "source": [
    "dummy_y.shape"
   ]
  },
  {
   "cell_type": "code",
   "execution_count": 109,
   "metadata": {},
   "outputs": [],
   "source": [
    "from sklearn.model_selection import train_test_split\n",
    "X_train, X_test, y_train, y_test = train_test_split(dummy_X,dummy_y, test_size = 0.2, random_state = 0)"
   ]
  },
  {
   "cell_type": "code",
   "execution_count": 111,
   "metadata": {},
   "outputs": [
    {
     "name": "stdout",
     "output_type": "stream",
     "text": [
      "Epoch 1/50\n",
      "141/141 [==============================] - 0s 798us/step - loss: 0.1999 - accuracy: 0.9504\n",
      "Epoch 2/50\n",
      "141/141 [==============================] - 0s 395us/step - loss: 0.2268 - accuracy: 0.9291\n",
      "Epoch 3/50\n",
      " 10/141 [=>............................] - ETA: 0s - loss: 0.1628 - accuracy: 1.0000"
     ]
    },
    {
     "name": "stderr",
     "output_type": "stream",
     "text": [
      "/home/ayush/anaconda3/lib/python3.7/site-packages/ipykernel_launcher.py:1: UserWarning: The `nb_epoch` argument in `fit` has been renamed `epochs`.\n",
      "  \"\"\"Entry point for launching an IPython kernel.\n"
     ]
    },
    {
     "name": "stdout",
     "output_type": "stream",
     "text": [
      "141/141 [==============================] - 0s 721us/step - loss: 0.2055 - accuracy: 0.9362\n",
      "Epoch 4/50\n",
      "141/141 [==============================] - 0s 374us/step - loss: 0.1934 - accuracy: 0.9291\n",
      "Epoch 5/50\n",
      "141/141 [==============================] - 0s 324us/step - loss: 0.1852 - accuracy: 0.9362\n",
      "Epoch 6/50\n",
      "141/141 [==============================] - 0s 308us/step - loss: 0.1795 - accuracy: 0.9291\n",
      "Epoch 7/50\n",
      "141/141 [==============================] - 0s 264us/step - loss: 0.2175 - accuracy: 0.9362\n",
      "Epoch 8/50\n",
      "141/141 [==============================] - 0s 607us/step - loss: 0.2063 - accuracy: 0.9291\n",
      "Epoch 9/50\n",
      "141/141 [==============================] - 0s 359us/step - loss: 0.1829 - accuracy: 0.9291\n",
      "Epoch 10/50\n",
      "141/141 [==============================] - 0s 470us/step - loss: 0.2249 - accuracy: 0.9220\n",
      "Epoch 11/50\n",
      "141/141 [==============================] - 0s 470us/step - loss: 0.2357 - accuracy: 0.9078\n",
      "Epoch 12/50\n",
      "141/141 [==============================] - 0s 438us/step - loss: 0.1927 - accuracy: 0.9362\n",
      "Epoch 13/50\n",
      "141/141 [==============================] - 0s 329us/step - loss: 0.2460 - accuracy: 0.9362\n",
      "Epoch 14/50\n",
      "141/141 [==============================] - 0s 373us/step - loss: 0.1881 - accuracy: 0.9149\n",
      "Epoch 15/50\n",
      "141/141 [==============================] - 0s 389us/step - loss: 0.5557 - accuracy: 0.8156\n",
      "Epoch 16/50\n",
      "141/141 [==============================] - 0s 784us/step - loss: 0.5239 - accuracy: 0.8723\n",
      "Epoch 17/50\n",
      "141/141 [==============================] - 0s 450us/step - loss: 0.2082 - accuracy: 0.9433\n",
      "Epoch 18/50\n",
      "141/141 [==============================] - 0s 419us/step - loss: 0.2144 - accuracy: 0.9291\n",
      "Epoch 19/50\n",
      "141/141 [==============================] - 0s 616us/step - loss: 0.2241 - accuracy: 0.9362\n",
      "Epoch 20/50\n",
      "141/141 [==============================] - 0s 584us/step - loss: 0.2025 - accuracy: 0.9504\n",
      "Epoch 21/50\n",
      "141/141 [==============================] - 0s 610us/step - loss: 0.1980 - accuracy: 0.9362\n",
      "Epoch 22/50\n",
      "141/141 [==============================] - 0s 774us/step - loss: 0.1930 - accuracy: 0.9291\n",
      "Epoch 23/50\n",
      "141/141 [==============================] - 0s 723us/step - loss: 0.1831 - accuracy: 0.9504\n",
      "Epoch 24/50\n",
      "141/141 [==============================] - 0s 478us/step - loss: 0.2876 - accuracy: 0.9078\n",
      "Epoch 25/50\n",
      "141/141 [==============================] - 0s 485us/step - loss: 0.2341 - accuracy: 0.9362\n",
      "Epoch 26/50\n",
      "141/141 [==============================] - 0s 434us/step - loss: 0.2318 - accuracy: 0.9291\n",
      "Epoch 27/50\n",
      "141/141 [==============================] - 0s 586us/step - loss: 0.2186 - accuracy: 0.9149\n",
      "Epoch 28/50\n",
      "141/141 [==============================] - 0s 327us/step - loss: 0.2994 - accuracy: 0.8865\n",
      "Epoch 29/50\n",
      "141/141 [==============================] - 0s 408us/step - loss: 0.1620 - accuracy: 0.9433\n",
      "Epoch 30/50\n",
      "141/141 [==============================] - 0s 472us/step - loss: 0.2010 - accuracy: 0.9220\n",
      "Epoch 31/50\n",
      "141/141 [==============================] - 0s 385us/step - loss: 0.1775 - accuracy: 0.9362\n",
      "Epoch 32/50\n",
      "141/141 [==============================] - 0s 374us/step - loss: 0.1846 - accuracy: 0.9433\n",
      "Epoch 33/50\n",
      "141/141 [==============================] - 0s 600us/step - loss: 0.1742 - accuracy: 0.9433\n",
      "Epoch 34/50\n",
      "141/141 [==============================] - 0s 731us/step - loss: 0.1564 - accuracy: 0.9574\n",
      "Epoch 35/50\n",
      "141/141 [==============================] - 0s 812us/step - loss: 0.1781 - accuracy: 0.9291\n",
      "Epoch 36/50\n",
      "141/141 [==============================] - 0s 584us/step - loss: 0.2225 - accuracy: 0.9149\n",
      "Epoch 37/50\n",
      "141/141 [==============================] - 0s 587us/step - loss: 0.1746 - accuracy: 0.9362\n",
      "Epoch 38/50\n",
      "141/141 [==============================] - 0s 358us/step - loss: 0.1976 - accuracy: 0.9362\n",
      "Epoch 39/50\n",
      "141/141 [==============================] - 0s 406us/step - loss: 0.1896 - accuracy: 0.9291\n",
      "Epoch 40/50\n",
      "141/141 [==============================] - 0s 327us/step - loss: 0.1931 - accuracy: 0.9291\n",
      "Epoch 41/50\n",
      "141/141 [==============================] - 0s 354us/step - loss: 0.2078 - accuracy: 0.9007\n",
      "Epoch 42/50\n",
      "141/141 [==============================] - 0s 363us/step - loss: 0.1742 - accuracy: 0.9362\n",
      "Epoch 43/50\n",
      "141/141 [==============================] - 0s 357us/step - loss: 0.1413 - accuracy: 0.9362\n",
      "Epoch 44/50\n",
      "141/141 [==============================] - 0s 355us/step - loss: 0.2351 - accuracy: 0.9007\n",
      "Epoch 45/50\n",
      "141/141 [==============================] - 0s 355us/step - loss: 0.1743 - accuracy: 0.9433\n",
      "Epoch 46/50\n",
      "141/141 [==============================] - 0s 413us/step - loss: 0.1867 - accuracy: 0.9362\n",
      "Epoch 47/50\n",
      "141/141 [==============================] - 0s 331us/step - loss: 0.1868 - accuracy: 0.9504\n",
      "Epoch 48/50\n",
      "141/141 [==============================] - 0s 358us/step - loss: 0.1707 - accuracy: 0.9362\n",
      "Epoch 49/50\n",
      "141/141 [==============================] - 0s 373us/step - loss: 0.2453 - accuracy: 0.9220\n",
      "Epoch 50/50\n",
      "141/141 [==============================] - 0s 427us/step - loss: 0.1720 - accuracy: 0.9291\n"
     ]
    },
    {
     "data": {
      "text/plain": [
       "<keras.callbacks.callbacks.History at 0x7f6447e68190>"
      ]
     },
     "execution_count": 111,
     "metadata": {},
     "output_type": "execute_result"
    }
   ],
   "source": [
    "model.fit(X_train, y_train, batch_size = 10, nb_epoch = 50)"
   ]
  },
  {
   "cell_type": "code",
   "execution_count": null,
   "metadata": {},
   "outputs": [],
   "source": [
    "params, scores = [],[]\n",
    "for a in range(-5,6):\n",
    "    mlp = MLPClassifier(solver='lbfgs'\n",
    "                    , activation = 'relu'\n",
    "                    , alpha=10**a\n",
    "                    , hidden_layer_sizes=(50,25,10,5)\n",
    "                    , random_state=1)\n",
    "    mlp.fit(X_train, y_train)\n",
    "    yPredMLP = mlp.predict(X_test)\n",
    "    score = accuracy_score(y_test,yPredMLP)\n",
    "    params.append(mlp.alpha)\n",
    "    scores.append(score)"
   ]
  },
  {
   "cell_type": "code",
   "execution_count": 119,
   "metadata": {},
   "outputs": [],
   "source": [
    "yPred = model.predict(X_test)"
   ]
  },
  {
   "cell_type": "code",
   "execution_count": 120,
   "metadata": {},
   "outputs": [],
   "source": [
    "yPred=(yPred == yPred.max(axis=1)[:,None]).astype(int)"
   ]
  },
  {
   "cell_type": "code",
   "execution_count": 122,
   "metadata": {},
   "outputs": [],
   "source": [
    "score = accuracy_score(y_test,yPred)"
   ]
  },
  {
   "cell_type": "code",
   "execution_count": 123,
   "metadata": {},
   "outputs": [
    {
     "data": {
      "text/plain": [
       "0.9444444444444444"
      ]
     },
     "execution_count": 123,
     "metadata": {},
     "output_type": "execute_result"
    }
   ],
   "source": [
    "score"
   ]
  },
  {
   "cell_type": "code",
   "execution_count": 130,
   "metadata": {},
   "outputs": [
    {
     "data": {
      "text/plain": [
       "array([[ 8,  1,  0],\n",
       "       [ 1, 14,  0],\n",
       "       [ 0,  0, 12]])"
      ]
     },
     "execution_count": 130,
     "metadata": {},
     "output_type": "execute_result"
    }
   ],
   "source": [
    "#confusion matrix\n",
    "from sklearn.metrics import confusion_matrix\n",
    "confusion_matrix(\n",
    "    y_test.argmax(axis=1), yPred.argmax(axis=1))"
   ]
  },
  {
   "cell_type": "code",
   "execution_count": null,
   "metadata": {},
   "outputs": [],
   "source": []
  }
 ],
 "metadata": {
  "kernelspec": {
   "display_name": "Python 3",
   "language": "python",
   "name": "python3"
  },
  "language_info": {
   "codemirror_mode": {
    "name": "ipython",
    "version": 3
   },
   "file_extension": ".py",
   "mimetype": "text/x-python",
   "name": "python",
   "nbconvert_exporter": "python",
   "pygments_lexer": "ipython3",
   "version": "3.7.4"
  }
 },
 "nbformat": 4,
 "nbformat_minor": 2
}
